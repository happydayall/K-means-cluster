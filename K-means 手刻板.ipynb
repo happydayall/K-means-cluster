{
 "cells": [
  {
   "cell_type": "code",
   "execution_count": 1,
   "metadata": {},
   "outputs": [],
   "source": [
    "import pandas as pd\n",
    "import numpy as np\n",
    "import matplotlib.pyplot as plt\n",
    "%matplotlib inline"
   ]
  },
  {
   "cell_type": "code",
   "execution_count": 2,
   "metadata": {},
   "outputs": [
    {
     "data": {
      "image/png": "[encoded data removed]",
      "text/plain": [
       "<Figure size 360x360 with 1 Axes>"
      ]
     },
     "metadata": {
      "needs_background": "light"
     },
     "output_type": "display_data"
    }
   ],
   "source": [
    "#指定點位\n",
    "df = pd.DataFrame({\n",
    "    'x':[15 , 22, 57, 45, 46, 11, 54, 77, 41, 44, 66, 21, 75, 31, 21, 7, 51],\n",
    "    'y':[54 , 54, 74, 42, 31, 24, 74, 15, 61, 75, 21, 14, 49, 67, 4, 14, 55]\n",
    "})\n",
    "#隨機點位\n",
    "\n",
    "#樣本種子碼\n",
    "np.random.seed(100)\n",
    "#中心點數量\n",
    "k = 4\n",
    "#中心點分布\n",
    "centroids = {\n",
    "    i+1:[np.random.randint(0,80),np.random.randint(0,80)]\n",
    "    for i in range(k)\n",
    "}\n",
    "#圖表大小\n",
    "fig = plt.figure(figsize=(5,5))\n",
    "#分布點位  x座標 ,y座標 ,符號o,x,*><^,顏色\n",
    "plt.scatter(df['x'],df['y'],marker = 'x',color = 'k')\n",
    "#指定中心點位顏色\n",
    "colmap = {1:'r' , 2:'g' , 3:'b' , 4:'y'}\n",
    "#給予中心點位顏色\n",
    "for i in centroids.keys():\n",
    "    plt.scatter(*centroids[i],color = colmap[i])\n",
    "#x軸\n",
    "plt.xlim(0,80)\n",
    "#y軸\n",
    "plt.ylim(0,80)\n",
    "plt.show()"
   ]
  },
  {
   "cell_type": "code",
   "execution_count": 3,
   "metadata": {},
   "outputs": [
    {
     "data": {
      "text/plain": [
       "dict_keys([1, 2, 3, 4])"
      ]
     },
     "execution_count": 3,
     "metadata": {},
     "output_type": "execute_result"
    }
   ],
   "source": [
    "centroids\n",
    "#中心點數量\n",
    "centroids.keys()"
   ]
  },
  {
   "cell_type": "code",
   "execution_count": 4,
   "metadata": {},
   "outputs": [
    {
     "data": {
      "text/plain": [
       "[1, 8, 64, 125]"
      ]
     },
     "execution_count": 4,
     "metadata": {},
     "output_type": "execute_result"
    }
   ],
   "source": [
    "l =[1,2,4,5]\n",
    "#計算\n",
    "list(map(lambda x:x**3 , l))\n",
    "#並未給值\n",
    "l\n",
    "#給值後輸出\n",
    "l = list(map(lambda x:x**3 , l))\n",
    "l"
   ]
  },
  {
   "cell_type": "code",
   "execution_count": 5,
   "metadata": {},
   "outputs": [
    {
     "name": "stdout",
     "output_type": "stream",
     "text": [
      "    x   y  distance_from_1  distance_from_2  distance_from_3  distance_from_4  \\\n",
      "0  15  54        30.805844        57.697487        55.000000        37.013511   \n",
      "1  22  54        33.105891        51.478151        51.107729        30.016662   \n",
      "2  57  74        70.007142        11.180340        64.629715        21.587033   \n",
      "3  45  42        41.146081        43.046487        32.140317        13.038405   \n",
      "4  46  31        38.639358        52.392748        21.095023        22.803509   \n",
      "\n",
      "   closest color  \n",
      "0        1     r  \n",
      "1        4     y  \n",
      "2        2     g  \n",
      "3        4     y  \n",
      "4        3     b  \n"
     ]
    },
    {
     "data": {
      "image/png": "[encoded data removed]",
      "text/plain": [
       "<Figure size 360x360 with 1 Axes>"
      ]
     },
     "metadata": {
      "needs_background": "light"
     },
     "output_type": "display_data"
    }
   ],
   "source": [
    "\n",
    "def assignment(df,cendtriods):\n",
    "    for i in centroids.keys():\n",
    "        #sqrt平方((x1 - x2)^2 - (y1 - y2)^2)\n",
    "        df['distance_from_{}'.format(i)] = (\n",
    "            np.sqrt(((df['x'] - centroids[i][0])**2)+\n",
    "                    (df['y'] - centroids[i][1])**2)\n",
    "            )\n",
    "    #標記個點距離\n",
    "    centroid_distance_cols = ['distance_from_{}'.format(i) for i in centroids.keys()]\n",
    "    #取出各點最小值\n",
    "    #在某個數列全數附值(:),df.loc取出特定列\n",
    "    df['closest'] = df.loc[:,centroid_distance_cols].idxmin(axis = 1)\n",
    "    #組別判斷藉由距離值判斷\n",
    "    #見結果組織list回傳\n",
    "    df['closest'] = df['closest'].map(lambda x:int(x.lstrip('distance_from_')))\n",
    "    #該點的分組顏色\n",
    "    df['color'] = df['closest'].map(lambda x:colmap[x])\n",
    "    #回傳df的值\n",
    "    return df\n",
    "\n",
    "#將df資料更新為分組函數過後的數值\n",
    "df = assignment(df,centroids)\n",
    "#貼出分析資料\n",
    "print(df.head())\n",
    "#表格大小\n",
    "fig = plt.figure(figsize=(5,5))\n",
    "#edgecolor 預設顏色k\n",
    "plt.scatter(df['x'],df['y'],color = df['color'],alpha = 0.6,edgecolor = 'k')\n",
    "plt.xlim(0,80)\n",
    "plt.ylim(0,80)\n",
    "plt.show()"
   ]
  },
  {
   "cell_type": "code",
   "execution_count": 6,
   "metadata": {},
   "outputs": [
    {
     "name": "stdout",
     "output_type": "stream",
     "text": [
      "{1: [15.0, 22.0], 2: [51.666666666666664, 74.33333333333333], 3: [63.0, 22.333333333333332], 4: [44.166666666666664, 54.666666666666664]}\n",
      "{1: [8, 24], 2: [67, 79], 3: [48, 10], 4: [52, 53]}\n"
     ]
    },
    {
     "data": {
      "image/png": "[encoded data removed]",
      "text/plain": [
       "<Figure size 360x360 with 1 Axes>"
      ]
     },
     "metadata": {
      "needs_background": "light"
     },
     "output_type": "display_data"
    }
   ],
   "source": [
    "import copy\n",
    "\n",
    "old_centroids = copy.deepcopy(centroids)\n",
    "\n",
    "def update(k):\n",
    "    for i in centroids.keys():\n",
    "        centroids[i][0] = np.mean(df[df['closest'] == i]['x'])\n",
    "        centroids[i][1] = np.mean(df[df['closest'] == i]['y'])\n",
    "    return k\n",
    "\n",
    "centroids = update(centroids)\n",
    "print(centroids)\n",
    "print(old_centroids)\n",
    "fig = plt.figure(figsize=(5,5))\n",
    "ax = plt.axes()\n",
    "plt.scatter(df['x'],df['y'],color=df['color'],alpha=0.5 , edgecolor = 'k')\n",
    "for i in centroids.keys():\n",
    "    plt.scatter(*centroids[i],color = colmap[i])\n",
    "plt.xlim(0,80)\n",
    "plt.ylim(0,80)\n",
    "for i in old_centroids.keys():\n",
    "    old_x = old_centroids[i][0]\n",
    "    old_y = old_centroids[i][1]\n",
    "    dx = (centroids[i][0] - old_centroids[i][0]) * 0.75\n",
    "    dy = (centroids[i][1] - old_centroids[i][1]) * 0.75\n",
    "    ax.arrow(old_x,old_y,dx,dy,head_width=2,head_length=3,fc=colmap[i],ec=colmap[i])\n",
    "plt.show()"
   ]
  },
  {
   "cell_type": "code",
   "execution_count": 7,
   "metadata": {},
   "outputs": [
    {
     "data": {
      "image/png": "[encoded data removed]",
      "text/plain": [
       "<Figure size 360x360 with 1 Axes>"
      ]
     },
     "metadata": {
      "needs_background": "light"
     },
     "output_type": "display_data"
    }
   ],
   "source": [
    "df = assignment(df,centroids)\n",
    "\n",
    "fig = plt.figure(figsize=(5,5))\n",
    "plt.scatter(df['x'],df['y'],color=df['color'],alpha=0.5,edgecolor='k')\n",
    "for i in centroids.keys():\n",
    "    plt.scatter(*centroids[i],color=colmap[i])\n",
    "plt.xlim(0,80)\n",
    "plt.ylim(0,80)\n",
    "plt.show()"
   ]
  },
  {
   "cell_type": "code",
   "execution_count": 8,
   "metadata": {},
   "outputs": [
    {
     "data": {
      "image/png": "[encoded data removed]",
      "text/plain": [
       "<Figure size 360x360 with 1 Axes>"
      ]
     },
     "metadata": {
      "needs_background": "light"
     },
     "output_type": "display_data"
    }
   ],
   "source": [
    "while True:\n",
    "    closest_controids = df['closest'].copy(deep=True)\n",
    "    centroids = update(centroids)\n",
    "    df = assignment(df,centroids)\n",
    "    if closest_controids.equals(df['closest']):\n",
    "        break\n",
    "\n",
    "fig = plt.figure(figsize=(5,5))\n",
    "plt.scatter(df['x'],df['y'],color=df['color'],alpha=0.5,edgecolor='k')\n",
    "for i in centroids.keys():\n",
    "    plt.scatter(*centroids[i],color=colmap[i])\n",
    "plt.xlim(0,80)\n",
    "plt.ylim(0,80)\n",
    "plt.show()"
   ]
  },
  {
   "cell_type": "code",
   "execution_count": null,
   "metadata": {},
   "outputs": [],
   "source": []
  },
  {
   "cell_type": "code",
   "execution_count": 9,
   "metadata": {},
   "outputs": [
    {
     "data": {
      "text/plain": [
       "KMeans(algorithm='auto', copy_x=True, init='k-means++', max_iter=300,\n",
       "       n_clusters=3, n_init=10, n_jobs=None, precompute_distances='auto',\n",
       "       random_state=None, tol=0.0001, verbose=0)"
      ]
     },
     "execution_count": 9,
     "metadata": {},
     "output_type": "execute_result"
    }
   ],
   "source": [
    "df =pd.DataFrame({\n",
    "     'x':[15 , 22, 57, 45, 46, 11, 54, 77, 41, 44, 66, 21, 75, 31, 21, 7, 51],\n",
    "    'y':[54 , 54, 74, 42, 31, 24, 74, 5, 61, 75, 11, 14, 49, 67, 4, 14, 55]\n",
    "})\n",
    "\n",
    "from sklearn.cluster import KMeans\n",
    "\n",
    "kmeans = KMeans(n_clusters=3)\n",
    "kmeans.fit(df)"
   ]
  },
  {
   "cell_type": "code",
   "execution_count": 10,
   "metadata": {},
   "outputs": [],
   "source": [
    "labels = kmeans.predict(df)\n",
    "centroids = kmeans.cluster_centers_"
   ]
  },
  {
   "cell_type": "code",
   "execution_count": 11,
   "metadata": {},
   "outputs": [
    {
     "data": {
      "image/png": "[encoded data removed]",
      "text/plain": [
       "<Figure size 360x360 with 1 Axes>"
      ]
     },
     "metadata": {
      "needs_background": "light"
     },
     "output_type": "display_data"
    }
   ],
   "source": [
    "fig = plt.figure(figsize=(5,5))\n",
    "\n",
    "colors = map(lambda x:colmap[x+1],labels)\n",
    "\n",
    "plt.scatter(df['x'],df['y'],color=list(colors),alpha=0.5,edgecolor='k')\n",
    "for idx,centroids in enumerate(centroids):\n",
    "    plt.scatter(*centroids, color=colmap[idx+1])\n",
    "plt.xlim(0,100)\n",
    "plt.ylim(0,100)\n",
    "plt.show()"
   ]
  },
  {
   "cell_type": "code",
   "execution_count": null,
   "metadata": {},
   "outputs": [],
   "source": []
  },
  {
   "cell_type": "code",
   "execution_count": null,
   "metadata": {},
   "outputs": [],
   "source": []
  }
 ],
 "metadata": {
  "kernelspec": {
   "display_name": "Python 3",
   "language": "python",
   "name": "python3"
  },
  "language_info": {
   "codemirror_mode": {
    "name": "ipython",
    "version": 3
   },
   "file_extension": ".py",
   "mimetype": "text/x-python",
   "name": "python",
   "nbconvert_exporter": "python",
   "pygments_lexer": "ipython3",
   "version": "3.7.7"
  }
 },
 "nbformat": 4,
 "nbformat_minor": 4
}
